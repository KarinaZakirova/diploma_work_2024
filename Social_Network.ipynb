version https://git-lfs.github.com/spec/v1
oid sha256:6b8bf9010964ad8f9ae3a1285db3ae3d38c38135ab2a2815cf47abcbb2ca40ca
size 232344800
